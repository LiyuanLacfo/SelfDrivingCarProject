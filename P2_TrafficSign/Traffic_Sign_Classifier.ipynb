{
 "cells": [
  {
   "cell_type": "markdown",
   "metadata": {},
   "source": [
    "# Self-Driving Car Engineer Nanodegree\n",
    "\n",
    "## Deep Learning\n",
    "\n",
    "## Project: Build a Traffic Sign Recognition Classifier\n",
    "\n",
    "In this notebook, a template is provided for you to implement your functionality in stages, which is required to successfully complete this project. If additional code is required that cannot be included in the notebook, be sure that the Python code is successfully imported and included in your submission if necessary. \n",
    "\n",
    "> **Note**: Once you have completed all of the code implementations, you need to finalize your work by exporting the iPython Notebook as an HTML document. Before exporting the notebook to html, all of the code cells need to have been run so that reviewers can see the final implementation and output. You can then export the notebook by using the menu above and navigating to  \\n\",\n",
    "    \"**File -> Download as -> HTML (.html)**. Include the finished document along with this notebook as your submission. \n",
    "\n",
    "In addition to implementing code, there is a writeup to complete. The writeup should be completed in a separate file, which can be either a markdown file or a pdf document. There is a [write up template](https://github.com/udacity/CarND-Traffic-Sign-Classifier-Project/blob/master/writeup_template.md) that can be used to guide the writing process. Completing the code template and writeup template will cover all of the [rubric points](https://review.udacity.com/#!/rubrics/481/view) for this project.\n",
    "\n",
    "The [rubric](https://review.udacity.com/#!/rubrics/481/view) contains \"Stand Out Suggestions\" for enhancing the project beyond the minimum requirements. The stand out suggestions are optional. If you decide to pursue the \"stand out suggestions\", you can include the code in this Ipython notebook and also discuss the results in the writeup file.\n",
    "\n",
    "\n",
    ">**Note:** Code and Markdown cells can be executed using the **Shift + Enter** keyboard shortcut. In addition, Markdown cells can be edited by typically double-clicking the cell to enter edit mode."
   ]
  },
  {
   "cell_type": "markdown",
   "metadata": {},
   "source": [
    "---\n",
    "## Step 0: Load The Data"
   ]
  },
  {
   "cell_type": "code",
   "execution_count": 1,
   "metadata": {},
   "outputs": [
    {
     "name": "stderr",
     "output_type": "stream",
     "text": [
      "100%|██████████| 3/3 [00:03<00:00,  1.09s/files]"
     ]
    },
    {
     "name": "stdout",
     "output_type": "stream",
     "text": [
      "The data has been unziped\n"
     ]
    },
    {
     "name": "stderr",
     "output_type": "stream",
     "text": [
      "\n"
     ]
    }
   ],
   "source": [
    "# First unzip the file\n",
    "from zipfile import ZipFile\n",
    "from tqdm import tqdm\n",
    "\n",
    "file_path = \"traffic-signs-data.zip\"\n",
    "with ZipFile(file_path) as zipf:\n",
    "    filename_pbar = tqdm(zipf.infolist(), unit=\"files\")\n",
    "    for file in filename_pbar:\n",
    "        zipf.extract(file)\n",
    "print(\"The data has been unziped\")"
   ]
  },
  {
   "cell_type": "code",
   "execution_count": 2,
   "metadata": {
    "collapsed": true
   },
   "outputs": [],
   "source": [
    "import numpy as np\n",
    "import tensorflow as tf\n",
    "from tensorflow.contrib.layers import flatten\n",
    "from sklearn.utils import shuffle"
   ]
  },
  {
   "cell_type": "code",
   "execution_count": 3,
   "metadata": {},
   "outputs": [
    {
     "name": "stdout",
     "output_type": "stream",
     "text": [
      "The shape of training features: (34799, 32, 32, 3)\n",
      "The shape of training labels: (34799,)\n",
      "The shape of validation features: (4410, 32, 32, 3)\n",
      "The shape of validation labels: (4410,)\n",
      "The shape of test features: (12630, 32, 32, 3)\n",
      "The shape of test labels: (12630,)\n"
     ]
    }
   ],
   "source": [
    "# Load pickled data\n",
    "import pickle\n",
    "\n",
    "# TODO: Fill this in based on where you saved the training and testing data\n",
    "\n",
    "training_file = \"train.p\"\n",
    "validation_file= \"valid.p\"\n",
    "testing_file = \"test.p\"\n",
    "\n",
    "with open(training_file, mode='rb') as f:\n",
    "    train = pickle.load(f)\n",
    "with open(validation_file, mode='rb') as f:\n",
    "    valid = pickle.load(f)\n",
    "with open(testing_file, mode='rb') as f:\n",
    "    test = pickle.load(f)\n",
    "    \n",
    "X_train, y_train = train['features'], train['labels']\n",
    "X_valid, y_valid = valid['features'], valid['labels']\n",
    "X_test, y_test = test['features'], test['labels']\n",
    "print(\"The shape of training features: {}\".format(X_train.shape))\n",
    "print(\"The shape of training labels: {}\".format(y_train.shape))\n",
    "print(\"The shape of validation features: {}\".format(X_valid.shape))\n",
    "print(\"The shape of validation labels: {}\".format(y_valid.shape))\n",
    "print(\"The shape of test features: {}\".format(X_test.shape))\n",
    "print(\"The shape of test labels: {}\".format(y_test.shape))"
   ]
  },
  {
   "cell_type": "markdown",
   "metadata": {},
   "source": [
    "---\n",
    "\n",
    "## Step 1: Dataset Summary & Exploration\n",
    "\n",
    "The pickled data is a dictionary with 4 key/value pairs:\n",
    "\n",
    "- `'features'` is a 4D array containing raw pixel data of the traffic sign images, (num examples, width, height, channels).\n",
    "- `'labels'` is a 1D array containing the label/class id of the traffic sign. The file `signnames.csv` contains id -> name mappings for each id.\n",
    "- `'sizes'` is a list containing tuples, (width, height) representing the original width and height the image.\n",
    "- `'coords'` is a list containing tuples, (x1, y1, x2, y2) representing coordinates of a bounding box around the sign in the image. **THESE COORDINATES ASSUME THE ORIGINAL IMAGE. THE PICKLED DATA CONTAINS RESIZED VERSIONS (32 by 32) OF THESE IMAGES**\n",
    "\n",
    "Complete the basic data summary below. Use python, numpy and/or pandas methods to calculate the data summary rather than hard coding the results. For example, the [pandas shape method](http://pandas.pydata.org/pandas-docs/stable/generated/pandas.DataFrame.shape.html) might be useful for calculating some of the summary results. "
   ]
  },
  {
   "cell_type": "markdown",
   "metadata": {},
   "source": [
    "### Provide a Basic Summary of the Data Set Using Python, Numpy and/or Pandas"
   ]
  },
  {
   "cell_type": "code",
   "execution_count": 5,
   "metadata": {},
   "outputs": [
    {
     "name": "stdout",
     "output_type": "stream",
     "text": [
      "Number of training examples = 34799\n",
      "Number of testing examples = 12630\n",
      "Image data shape = (32, 32, 3)\n",
      "Number of classes = 43\n"
     ]
    }
   ],
   "source": [
    "### Replace each question mark with the appropriate value. \n",
    "### Use python, pandas or numpy methods rather than hard coding the results\n",
    "\n",
    "# TODO: Number of training examples\n",
    "n_train = X_train.shape[0]\n",
    "\n",
    "# TODO: Number of validation examples\n",
    "n_validation = X_valid.shape[0]\n",
    "\n",
    "# TODO: Number of testing examples.\n",
    "n_test = X_test.shape[0]\n",
    "\n",
    "# TODO: What's the shape of an traffic sign image?\n",
    "image_shape = X_train[0].shape\n",
    "\n",
    "# TODO: How many unique classes/labels there are in the dataset.\n",
    "n_classes = np.unique(y_train).shape[0]\n",
    "print(\"Number of training examples =\", n_train)\n",
    "print(\"Number of testing examples =\", n_test)\n",
    "print(\"Image data shape =\", image_shape)\n",
    "print(\"Number of classes =\", n_classes)"
   ]
  },
  {
   "cell_type": "markdown",
   "metadata": {},
   "source": [
    "### Include an exploratory visualization of the dataset"
   ]
  },
  {
   "cell_type": "markdown",
   "metadata": {},
   "source": [
    "Visualize the German Traffic Signs Dataset using the pickled file(s). This is open ended, suggestions include: plotting traffic sign images, plotting the count of each sign, etc. \n",
    "\n",
    "The [Matplotlib](http://matplotlib.org/) [examples](http://matplotlib.org/examples/index.html) and [gallery](http://matplotlib.org/gallery.html) pages are a great resource for doing visualizations in Python.\n",
    "\n",
    "**NOTE:** It's recommended you start with something simple first. If you wish to do more, come back to it after you've completed the rest of the sections. It can be interesting to look at the distribution of classes in the training, validation and test set. Is the distribution the same? Are there more examples of some classes than others?"
   ]
  },
  {
   "cell_type": "code",
   "execution_count": 6,
   "metadata": {
    "collapsed": true
   },
   "outputs": [],
   "source": [
    "### Data exploration visualization code goes here.\n",
    "### Feel free to use as many code cells as needed.\n",
    "import matplotlib.pyplot as plt\n",
    "# Visualizations will be shown in the notebook.\n",
    "%matplotlib inline"
   ]
  },
  {
   "cell_type": "code",
   "execution_count": 7,
   "metadata": {
    "collapsed": true
   },
   "outputs": [],
   "source": [
    "#index_arr contains the index of X_train for the first image of each class\n",
    "index_arr = []\n",
    "for i in range(43):\n",
    "    for j in range(len(y_train)):\n",
    "        if  y_train[j] == i:\n",
    "            index_arr.append(j)\n",
    "            break"
   ]
  },
  {
   "cell_type": "code",
   "execution_count": 8,
   "metadata": {},
   "outputs": [
    {
     "data": {
      "image/png": "[encoded data removed]",
      "text/plain": [
       "<matplotlib.figure.Figure at 0x12b405a58>"
      ]
     },
     "metadata": {},
     "output_type": "display_data"
    }
   ],
   "source": [
    "#First show one image for each class\n",
    "fig = plt.figure(figsize=(10, 10))\n",
    "for i in range(len(index_arr)):\n",
    "    a = fig.add_subplot(7, 7, i+1)\n",
    "    plt.axis(\"off\")\n",
    "    plt.imshow(X_train[index_arr[i]])"
   ]
  },
  {
   "cell_type": "code",
   "execution_count": 10,
   "metadata": {
    "collapsed": true
   },
   "outputs": [],
   "source": [
    "#Get the distribution of classes\n",
    "#Get the distribution of train labels\n",
    "def get_class_distribution(y):\n",
    "    a = [0] * 43\n",
    "    for i in range(y.shape[0]):\n",
    "        a[y[i]] += 1\n",
    "    return a"
   ]
  },
  {
   "cell_type": "code",
   "execution_count": 11,
   "metadata": {
    "collapsed": true
   },
   "outputs": [],
   "source": [
    "train_label_dis = get_class_distribution(y_train)\n",
    "valid_label_dis = get_class_distribution(y_valid)\n",
    "test_label_dis = get_class_distribution(y_test)"
   ]
  },
  {
   "cell_type": "code",
   "execution_count": 12,
   "metadata": {},
   "outputs": [
    {
     "data": {
      "text/plain": [
       "<matplotlib.text.Text at 0x12fc11780>"
      ]
     },
     "execution_count": 12,
     "metadata": {},
     "output_type": "execute_result"
    },
    {
     "data": {
      "image/png": "[encoded data removed]",
      "text/plain": [
       "<matplotlib.figure.Figure at 0x12eff6fd0>"
      ]
     },
     "metadata": {},
     "output_type": "display_data"
    }
   ],
   "source": [
    "#Draw a histogram of count of each class for train, validation and test data set respectively\n",
    "# data_label = [\"train\", \"validation\", \"test\"]\n",
    "# data_src = [y_train, y_valid, y_test]\n",
    "fig_1, (ax1, ax2, ax3) = plt.subplots(3, 1)\n",
    "fig_1.subplots_adjust(top=2, hspace=1)\n",
    "train_bar = ax1.bar(np.arange(43), train_label_dis)\n",
    "ax1.set_title(\"Train labels distribution\")\n",
    "ax1.set_xlabel(\"Class Id\")\n",
    "\n",
    "valid_bar = ax2.bar(np.arange(43), valid_label_dis)\n",
    "ax2.set_title(\"Valid labels distribution\")\n",
    "ax2.set_xlabel(\"Class Id\")\n",
    "\n",
    "test_bar = ax3.bar(np.arange(43), test_label_dis)\n",
    "ax3.set_title(\"Test labels distribution\")\n",
    "ax3.set_xlabel(\"Class Id\")"
   ]
  },
  {
   "cell_type": "markdown",
   "metadata": {},
   "source": [
    "First, we can see from above that although the numbers of data are different accross different sets, the distributions of 3 datasets are much similar.\n",
    "\n",
    "Second, some signs account for a large share of the total number of data such as the second and third sign. After refering to the sign names table, the second sign is ***speed limit(30km/h)*** and the third sign is ***speed limit(50km/h)***"
   ]
  },
  {
   "cell_type": "markdown",
   "metadata": {},
   "source": [
    "### Generate fake data"
   ]
  },
  {
   "cell_type": "markdown",
   "metadata": {},
   "source": [
    "Since the distribution of classes in training set is far from uniform, I'd like to generate some fake data by Translation, Rotation, Scaling and Shear."
   ]
  },
  {
   "cell_type": "code",
   "execution_count": 13,
   "metadata": {
    "collapsed": true
   },
   "outputs": [],
   "source": [
    "import cv2\n",
    "#apply affine transformation to data\n",
    "def apply_affine(img, M):\n",
    "    nrow, ncol, ch = img.shape\n",
    "    return cv2.warpAffine(img, M, (ncol, nrow))\n",
    "\n",
    "#apply translation\n",
    "def random_translate(img, relative_move=0.1):\n",
    "    h, w = img.shape[0:2]\n",
    "    dx = np.random.uniform(-relative_move*w, relative_move*w)\n",
    "    dy = np.random.uniform(-relative_move*h, relative_move*h)\n",
    "    M = np.array([[1.0, 0.0, dx], [0.0, 1.0, dy]], dtype=np.float32)\n",
    "    return apply_affine(img, M)\n",
    "\n",
    "#apply rotate\n",
    "def random_rotate(img, angle=5):\n",
    "    theta = np.random.uniform(-angle * np.pi / 180, angle*np.pi / 180)\n",
    "    c = np.cos(theta)\n",
    "    s = np.sin(theta)\n",
    "    M = np.array([[c, -s, 0.0], [s, c, 0.0]], dtype=np.float32)\n",
    "    return apply_affine(img, M)\n",
    "\n",
    "#apply scale\n",
    "def random_scale(img, factor=0.05):\n",
    "    sx = 1.0 + np.random.uniform(-factor, factor)\n",
    "    sy = 1.0 + np.random.uniform(-factor, factor)\n",
    "    M = np.array([[sx, 0.0, 0.0], [0.0, sy, 0.0]], dtype=np.float32)\n",
    "    return apply_affine(img, M)\n",
    "\n",
    "#apply shear\n",
    "def random_shear(img, factor=0.05):\n",
    "    sx = np.random.uniform(-factor, factor)\n",
    "    sy = np.random.uniform(-factor, factor)\n",
    "    M = np.array([[1.0, sx, 0.0], [sy, 1.0, 0.0]])\n",
    "    return apply_affine(img, M)\n",
    "\n",
    "def transform_img(img):\n",
    "    a = np.random.randint(0, 4)\n",
    "    if a == 0:\n",
    "        return random_translate(img)\n",
    "    elif a == 1:\n",
    "        return random_rotate(img)\n",
    "    elif a == 2:\n",
    "        return random_scale(img)\n",
    "    else:\n",
    "        return random_shear(img)\n",
    "    \n",
    "#generate fake data\n",
    "def generate_fake_data(X, y, old_distributions, expand_factor=10):\n",
    "    fake_features = []\n",
    "    fake_labels = []\n",
    "    total_size = X.shape[0] * expand_factor\n",
    "    n_classes = len(old_distributions)\n",
    "    num_per_classes = int(np.ceil(total_size/n_classes))\n",
    "    #generate fake images for each image in X\n",
    "    for i in range(X.shape[0]):\n",
    "        cur_num = old_distributions[y[i]]\n",
    "        n_fake_image = int(np.ceil((num_per_classes-cur_num)/cur_num))\n",
    "        for j in range(n_fake_image):\n",
    "            fake_img = transform_img(X[i])\n",
    "            fake_features.append(fake_img)\n",
    "            fake_labels.append(y[i])\n",
    "    return (np.array(fake_features), np.array(fake_labels))\n",
    "\n",
    "#Extend the training set\n",
    "def extend_training_set(X, y, old_distributions):\n",
    "    X_fake, y_fake = generate_fake_data(X, y, old_distributions)\n",
    "    return (np.concatenate((X, X_fake), axis=0), np.concatenate((y, y_fake), axis=0))"
   ]
  },
  {
   "cell_type": "code",
   "execution_count": 14,
   "metadata": {
    "collapsed": true
   },
   "outputs": [],
   "source": [
    "#Extend the training set\n",
    "X_fake_train, y_fake_train = extend_training_set(X_train, y_train, train_label_dis)"
   ]
  },
  {
   "cell_type": "code",
   "execution_count": 15,
   "metadata": {
    "collapsed": true
   },
   "outputs": [],
   "source": [
    "#Store the extended training set\n",
    "import os\n",
    "fake_filepath = \"fake_data.p\"\n",
    "if not os.path.isfile(fake_filepath):\n",
    "    with open(fake_filepath, \"wb\") as f:\n",
    "        pickle.dump({\n",
    "            \"features\": X_fake_train,\n",
    "            \"labels\": y_fake_train\n",
    "        }, f)"
   ]
  },
  {
   "cell_type": "code",
   "execution_count": 16,
   "metadata": {
    "collapsed": true
   },
   "outputs": [],
   "source": [
    "#Load the extended training set\n",
    "# Load pickled data\n",
    "training_file = \"fake_data.p\"\n",
    "\n",
    "with open(training_file, mode='rb') as f:\n",
    "    train = pickle.load(f)\n",
    "\n",
    "X_train, y_train = train['features'], train['labels']"
   ]
  },
  {
   "cell_type": "code",
   "execution_count": 17,
   "metadata": {},
   "outputs": [
    {
     "data": {
      "text/plain": [
       "<matplotlib.text.Text at 0x12eaa5c18>"
      ]
     },
     "execution_count": 17,
     "metadata": {},
     "output_type": "execute_result"
    },
    {
     "data": {
      "image/png": "[encoded data removed]",
      "text/plain": [
       "<matplotlib.figure.Figure at 0x12fcd0f28>"
      ]
     },
     "metadata": {},
     "output_type": "display_data"
    }
   ],
   "source": [
    "#Extended training set class distribution\n",
    "extended_train_label_dis = get_class_distribution(y_train)\n",
    "fig_2, ax_1 = plt.subplots()\n",
    "extended_train_bar = ax_1.bar(np.arange(43), extended_train_label_dis)\n",
    "ax_1.set_title(\"Train labels distribution\")\n",
    "ax1.set_xlabel(\"Class Id\")"
   ]
  },
  {
   "cell_type": "markdown",
   "metadata": {},
   "source": [
    "----\n",
    "\n",
    "## Step 2: Design and Test a Model Architecture\n",
    "\n",
    "Design and implement a deep learning model that learns to recognize traffic signs. Train and test your model on the [German Traffic Sign Dataset](http://benchmark.ini.rub.de/?section=gtsrb&subsection=dataset).\n",
    "\n",
    "The LeNet-5 implementation shown in the [classroom](https://classroom.udacity.com/nanodegrees/nd013/parts/fbf77062-5703-404e-b60c-95b78b2f3f9e/modules/6df7ae49-c61c-4bb2-a23e-6527e69209ec/lessons/601ae704-1035-4287-8b11-e2c2716217ad/concepts/d4aca031-508f-4e0b-b493-e7b706120f81) at the end of the CNN lesson is a solid starting point. You'll have to change the number of classes and possibly the preprocessing, but aside from that it's plug and play! \n",
    "\n",
    "With the LeNet-5 solution from the lecture, you should expect a validation set accuracy of about 0.89. To meet specifications, the validation set accuracy will need to be at least 0.93. It is possible to get an even higher accuracy, but 0.93 is the minimum for a successful project submission. \n",
    "\n",
    "There are various aspects to consider when thinking about this problem:\n",
    "\n",
    "- Neural network architecture (is the network over or underfitting?)\n",
    "- Play around preprocessing techniques (normalization, rgb to grayscale, etc)\n",
    "- Number of examples per label (some have more than others).\n",
    "- Generate fake data.\n",
    "\n",
    "Here is an example of a [published baseline model on this problem](http://yann.lecun.com/exdb/publis/pdf/sermanet-ijcnn-11.pdf). It's not required to be familiar with the approach used in the paper but, it's good practice to try to read papers like these."
   ]
  },
  {
   "cell_type": "markdown",
   "metadata": {},
   "source": [
    "### Pre-process the Data Set (normalization, grayscale, etc.)"
   ]
  },
  {
   "cell_type": "markdown",
   "metadata": {},
   "source": [
    "Minimally, the image data should be normalized so that the data has mean zero and equal variance. For image data, `(pixel - 128)/ 128` is a quick way to approximately normalize the data and can be used in this project. \n",
    "\n",
    "Other pre-processing steps are optional. You can try different techniques to see if it improves performance. \n",
    "\n",
    "Use the code cell (or multiple code cells, if necessary) to implement the first step of your project."
   ]
  },
  {
   "cell_type": "markdown",
   "metadata": {},
   "source": [
    "### Normalize data"
   ]
  },
  {
   "cell_type": "markdown",
   "metadata": {},
   "source": [
    "To avoid numerical instability, We first normalize our data."
   ]
  },
  {
   "cell_type": "code",
   "execution_count": 18,
   "metadata": {
    "collapsed": true
   },
   "outputs": [],
   "source": [
    "### Preprocess the data here. It is required to normalize the data. Other preprocessing steps could include \n",
    "### converting to grayscale, etc.\n",
    "### Feel free to use as many code cells as needed.\n",
    "\n",
    "#Convert the pixel with zero mean and equal variance\n",
    "def normalize(x):\n",
    "    return 0.1 + (0.9 - 0.1)* x / 255\n",
    "train_labels = y_train\n",
    "valid_labels = y_valid\n",
    "test_labels = y_test"
   ]
  },
  {
   "cell_type": "markdown",
   "metadata": {},
   "source": [
    "### Convert color image to gray image"
   ]
  },
  {
   "cell_type": "markdown",
   "metadata": {},
   "source": [
    "After some training tests, I found that gray images will lead to better generalization accuracy. So here we convert the color images to gray images"
   ]
  },
  {
   "cell_type": "code",
   "execution_count": 19,
   "metadata": {
    "collapsed": true
   },
   "outputs": [],
   "source": [
    "#convert color image to grayscale\n",
    "def color2gray(image):\n",
    "    gray_image = [x[:, :, 0] * 0.2989 + x[:, :, 1] * 0.5870 + x[:, :, 2] * 0.114 for x in image]\n",
    "    return np.array(gray_image)"
   ]
  },
  {
   "cell_type": "markdown",
   "metadata": {},
   "source": [
    "### Preprocess the data"
   ]
  },
  {
   "cell_type": "code",
   "execution_count": 20,
   "metadata": {
    "collapsed": true
   },
   "outputs": [],
   "source": [
    "X_gray_train = color2gray(X_train)[:,:,:, None]\n",
    "X_gray_valid = color2gray(X_valid)[:,:,:, None]\n",
    "X_gray_test = color2gray(X_test)[:,:,:, None]"
   ]
  },
  {
   "cell_type": "code",
   "execution_count": 21,
   "metadata": {
    "collapsed": true
   },
   "outputs": [],
   "source": [
    "train_gray_features = normalize(X_gray_train)\n",
    "valid_gray_features = normalize(X_gray_valid)\n",
    "test_gray_features = normalize(X_gray_test)"
   ]
  },
  {
   "cell_type": "markdown",
   "metadata": {},
   "source": [
    "### Model Architecture"
   ]
  },
  {
   "cell_type": "markdown",
   "metadata": {},
   "source": [
    "![Model Architecture](https://github.com/LiyuanLacfo/SelfDrivingCarProject/blob/master/P2_TrafficSign/my_conv.png)"
   ]
  },
  {
   "cell_type": "markdown",
   "metadata": {},
   "source": [
    "Here I use two convolutional layers and two fully connected layers. The first convolutional layer is of size 16x16x16 and the second convolutional layer is of size 8x8x32. The first fully connected layer contains 512 neutrons and the second contains 43 neutrons. "
   ]
  },
  {
   "cell_type": "code",
   "execution_count": 22,
   "metadata": {
    "collapsed": true
   },
   "outputs": [],
   "source": [
    "### Define your architecture here.\n",
    "### Feel free to use as many code cells as needed.\n",
    "\n",
    "#Define the hyperparameters of the net architecture\n",
    "#set the hyperparameters for the network architecture\n",
    "conv_filter_size = [5, 5] #2 convolutional layers, the filter size for each\n",
    "conv_strides = [1, 1] #2 convolutional layers, the strides of filter for each\n",
    "conv_padding = [\"SAME\", \"SAME\"] #2 convolutional layers, the filter padding for each\n",
    "conv_output = [16, 32]  #2 convolutional layers, the output size for each\n",
    "pooling_filter_size = [2, 2] # 2 pooling layers after convolutional layers, the filter size for each pooling layer\n",
    "pooling_strides = [2, 2] # 2 pooling layers after convolutional layers, the strides for each pooling layer\n",
    "pooling_padding = [\"SAME\", \"SAME\"] # 2 pooling layers after convolutional layers, the strides for each pooling layer\n",
    "fully_output = [512, 43] # 3 fully connected layers, the output size for each"
   ]
  },
  {
   "cell_type": "code",
   "execution_count": 23,
   "metadata": {
    "collapsed": true
   },
   "outputs": [],
   "source": [
    "def network(x, keep_prob):\n",
    "    #The first convolutional layer\n",
    "    conv_weights_1 = tf.Variable(tf.truncated_normal([conv_filter_size[0], conv_filter_size[0], 1, conv_output[0]],\n",
    "                                                     0.0, 0.1), name=\"conv_w_1\")\n",
    "    conv_bias_1 = tf.Variable(tf.zeros(conv_output[0]), name=\"conv_b_1\")\n",
    "    conv_layer_1 = tf.nn.conv2d(x, conv_weights_1, strides=[1, conv_strides[0], conv_strides[0], 1], padding=conv_padding[0])\n",
    "    conv_layer_1 = tf.nn.bias_add(conv_layer_1, conv_bias_1)\n",
    "    conv_layer_1 = tf.nn.relu(conv_layer_1)\n",
    "    conv_layer_1 = tf.nn.max_pool(conv_layer_1, ksize=[1, pooling_filter_size[0], pooling_filter_size[0], 1],\n",
    "                                strides=[1, pooling_strides[0], pooling_strides[0], 1], padding=pooling_padding[0])\n",
    "    conv_layer_1 = tf.nn.dropout(conv_layer_1, keep_prob=keep_prob)\n",
    "    \n",
    "    #The second convolutional layer\n",
    "    conv_weights_2 = tf.Variable(tf.truncated_normal([conv_filter_size[1], conv_filter_size[1], \n",
    "                                                      conv_output[0], conv_output[1]], 0.0, 0.1), name=\"conv_w_2\")\n",
    "    conv_bias_2 = tf.Variable(tf.zeros(conv_output[1]), name=\"conv_b_2\")\n",
    "    conv_layer_2 = tf.nn.conv2d(conv_layer_1, conv_weights_2, strides=[1, conv_strides[1], \n",
    "                                                        conv_strides[1], 1], padding=conv_padding[1])\n",
    "    conv_layer_2 = tf.nn.bias_add(conv_layer_2, conv_bias_2)\n",
    "    conv_layer_2 = tf.nn.relu(conv_layer_2)\n",
    "    conv_layer_2 = tf.nn.max_pool(conv_layer_2, ksize=[1, pooling_filter_size[1], pooling_filter_size[1], 1],\n",
    "                                strides=[1, pooling_strides[1], pooling_strides[1], 1], padding=pooling_padding[1])\n",
    "    conv_layer_2 = tf.nn.dropout(conv_layer_2, keep_prob=keep_prob)\n",
    "    #Third Convolutional layer\n",
    "#     conv_weights_3 = tf.Variable(tf.truncated_normal([conv_filter_size[2], conv_filter_size[2], \n",
    "#                                                       conv_output[1], conv_output[2]], 0.0, 0.1))\n",
    "#     conv_bias_3 = tf.Variable(tf.zeros(conv_output[2]))\n",
    "#     conv_layer_3 = tf.nn.conv2d(conv_layer_2, conv_weights_3, strides=[1, conv_strides[2], \n",
    "#                                                         conv_strides[2], 1], padding=conv_padding[2])\n",
    "#     conv_layer_3 = tf.nn.bias_add(conv_layer_3, conv_bias_3)\n",
    "#     conv_layer_3 = tf.nn.relu(conv_layer_3)\n",
    "#     conv_layer_3 = tf.nn.max_pool(conv_layer_3, ksize=[1, pooling_filter_size[2], pooling_filter_size[2], 1],\n",
    "#                                 strides=[1, pooling_strides[2], pooling_strides[2], 1], padding=pooling_padding[2])\n",
    "#     conv_layer_3 = tf.nn.dropout(conv_layer_3, keep_prob=keep_prob)\n",
    "    #Flatten layer\n",
    "    flatten_layer = flatten(conv_layer_2)\n",
    "    \n",
    "    #First fully connetected layer\n",
    "    num_in_1 = flatten_layer.get_shape().as_list()[1] #the number of input feature\n",
    "    fully_weights_1 = tf.Variable(tf.truncated_normal([num_in_1, fully_output[0]], 0.0, 0.1), name=\"fc_w_1\")\n",
    "    fully_bias_1 = tf.Variable(tf.zeros(fully_output[0]), name=\"fc_b_1\")\n",
    "    fully_layer_1 = tf.add(tf.matmul(flatten_layer, fully_weights_1), fully_bias_1)\n",
    "    fully_layer_1 = tf.nn.relu(fully_layer_1)\n",
    "    fully_layer_1 = tf.nn.dropout(fully_layer_1, keep_prob=keep_prob)\n",
    "    \n",
    "    #Second fully connected layer\n",
    "    fully_weights_2 = tf.Variable(tf.truncated_normal([fully_output[0], fully_output[1]], 0.0, 0.1), name=\"fc_w_2\")\n",
    "    fully_bias_2 = tf.Variable(tf.zeros(fully_output[1]), name=\"fc_b_2\")\n",
    "    fully_layer_2 = tf.add(tf.matmul(fully_layer_1, fully_weights_2), fully_bias_2)\n",
    "#     fully_layer_2 = tf.nn.relu(fully_layer_2)\n",
    "    \n",
    "    #Third fully connected layer\n",
    "#     fully_weights_3 = tf.Variable(tf.truncated_normal([fully_output[1], fully_output[2]]))\n",
    "#     fully_bias_3 = tf.Variable(tf.zeros(fully_output[2]))\n",
    "#     fully_layer_3 = tf.add(tf.matmul(fully_layer_2, fully_weights_3), fully_bias_3)\n",
    "    \n",
    "    return fully_layer_2"
   ]
  },
  {
   "cell_type": "markdown",
   "metadata": {},
   "source": [
    "### Train, Validate and Test the Model"
   ]
  },
  {
   "cell_type": "markdown",
   "metadata": {},
   "source": [
    "A validation set can be used to assess how well the model is performing. A low accuracy on the training and validation\n",
    "sets imply underfitting. A high accuracy on the training set but low accuracy on the validation set implies overfitting."
   ]
  },
  {
   "cell_type": "code",
   "execution_count": 24,
   "metadata": {
    "collapsed": true
   },
   "outputs": [],
   "source": [
    "#Define the epochs and batch size\n",
    "epochs = 100\n",
    "batch_size = 128"
   ]
  },
  {
   "cell_type": "code",
   "execution_count": 25,
   "metadata": {
    "collapsed": true
   },
   "outputs": [],
   "source": [
    "## Train your model here.\n",
    "### Calculate and report the accuracy on the training and validation set.\n",
    "### Once a final model architecture is selected, \n",
    "### the accuracy on the test set should be calculated and reported as well.\n",
    "### Feel free to use as many code cells as needed.\n",
    "\n",
    "#get batches from features and labels input\n",
    "def get_batch(features, labels, batch_size):\n",
    "    n = features.shape[0]\n",
    "    for start in range(0, n, batch_size):\n",
    "        end = min(n, start+batch_size)\n",
    "        yield features[start:end], labels[start:end]"
   ]
  },
  {
   "cell_type": "code",
   "execution_count": 26,
   "metadata": {
    "collapsed": true
   },
   "outputs": [],
   "source": [
    "#Define the loss, accuracy and optimizer of the network\n",
    "learning_rate = 0.0001 # learning rate\n",
    "x = tf.placeholder(tf.float32, [None, 32, 32, 1]) #input features\n",
    "y = tf.placeholder(tf.int32, [None]) #input labels\n",
    "keep_prob = tf.placeholder(tf.float32)\n",
    "one_hot_y = tf.one_hot(y, 43) #one hot encode for input labels\n",
    "logits = network(x, keep_prob)\n",
    "cross_entropy = tf.nn.softmax_cross_entropy_with_logits(logits=logits, labels=one_hot_y)\n",
    "correct_pred = tf.equal(tf.argmax(logits, 1), tf.argmax(one_hot_y, 1))\n",
    "accuracy = tf.reduce_mean(tf.cast(correct_pred, tf.float32))\n",
    "loss = tf.reduce_mean(cross_entropy)\n",
    "#Use adam optimizer\n",
    "optimizer = tf.train.AdamOptimizer(learning_rate=learning_rate).minimize(loss)"
   ]
  },
  {
   "cell_type": "code",
   "execution_count": 27,
   "metadata": {
    "collapsed": true
   },
   "outputs": [],
   "source": [
    "def evaluate(features, labels):\n",
    "    total_acc = 0\n",
    "    sess = tf.get_default_session()\n",
    "    co_pred = []\n",
    "    for batch_features, batch_labels in get_batch(features, labels, batch_size):\n",
    "        temp_acc, corr_pred = sess.run([accuracy, correct_pred], feed_dict={x: batch_features, y: batch_labels, keep_prob:1.0})\n",
    "        total_acc += temp_acc * batch_features.shape[0]\n",
    "        co_pred += list(corr_pred)\n",
    "    return total_acc/features.shape[0], co_pred"
   ]
  },
  {
   "cell_type": "code",
   "execution_count": 40,
   "metadata": {},
   "outputs": [
    {
     "name": "stdout",
     "output_type": "stream",
     "text": [
      "Epoch 1, train accuracy: 0.027961237298593195, validation accuracy: 0.047619047619047616\n",
      "Epoch 2, train accuracy: 0.038894026363615386, validation accuracy: 0.07346938775510205\n",
      "Epoch 3, train accuracy: 0.09198481009985507, validation accuracy: 0.25510204081632654\n",
      "Epoch 4, train accuracy: 0.27404201298890624, validation accuracy: 0.49138321984652217\n",
      "Epoch 5, train accuracy: 0.49809852643485863, validation accuracy: 0.6947845804718347\n",
      "Epoch 6, train accuracy: 0.6771161075370322, validation accuracy: 0.7979591830787746\n",
      "Epoch 7, train accuracy: 0.7838886365848339, validation accuracy: 0.8689342396870222\n",
      "Epoch 8, train accuracy: 0.8452118433174183, validation accuracy: 0.9154195012689448\n",
      "Epoch 9, train accuracy: 0.8843657833247082, validation accuracy: 0.9360544213362021\n",
      "Epoch 10, train accuracy: 0.9096813732326374, validation accuracy: 0.9600907032181617\n",
      "Epoch 11, train accuracy: 0.9274731468208657, validation accuracy: 0.967346939045826\n",
      "Epoch 12, train accuracy: 0.9395851230896346, validation accuracy: 0.9689342399303065\n",
      "Epoch 13, train accuracy: 0.950107522168868, validation accuracy: 0.9750566893694352\n",
      "Epoch 14, train accuracy: 0.9573276498959279, validation accuracy: 0.9757369615053103\n",
      "Epoch 15, train accuracy: 0.9629281051499939, validation accuracy: 0.97709750593925\n",
      "Epoch 16, train accuracy: 0.9674533386618925, validation accuracy: 0.9782312922737225\n",
      "Epoch 17, train accuracy: 0.9710675064183726, validation accuracy: 0.9759637191452407\n",
      "Epoch 18, train accuracy: 0.97364475548965, validation accuracy: 0.9782312922737225\n",
      "Epoch 19, train accuracy: 0.9762493638981403, validation accuracy: 0.9736961451517482\n",
      "Epoch 20, train accuracy: 0.978093382874573, validation accuracy: 0.9777777777777777\n",
      "Epoch 21, train accuracy: 0.9802958091027435, validation accuracy: 0.9791383222657807\n",
      "Epoch 22, train accuracy: 0.9816336804320586, validation accuracy: 0.9798185938610241\n",
      "Epoch 23, train accuracy: 0.9832889200203381, validation accuracy: 0.9793650793650793\n",
      "Epoch 24, train accuracy: 0.984424332300721, validation accuracy: 0.980498866213152\n",
      "Epoch 25, train accuracy: 0.9855351211796998, validation accuracy: 0.9786848075265516\n",
      "Epoch 26, train accuracy: 0.9865227930620939, validation accuracy: 0.9798185941043084\n",
      "Epoch 27, train accuracy: 0.9871301702297637, validation accuracy: 0.9802721088435374\n",
      "Epoch 28, train accuracy: 0.987811417596428, validation accuracy: 0.9784580501569372\n",
      "Epoch 29, train accuracy: 0.9887799379490351, validation accuracy: 0.9816326530612245\n",
      "Epoch 30, train accuracy: 0.9887388989510432, validation accuracy: 0.9798185943746243\n",
      "Epoch 31, train accuracy: 0.989814120698429, validation accuracy: 0.9800453517442388\n",
      "Epoch 32, train accuracy: 0.9901779998165657, validation accuracy: 0.9820861678004535\n",
      "Epoch 33, train accuracy: 0.9905336711324949, validation accuracy: 0.9820861678004535\n",
      "Epoch 34, train accuracy: 0.9910343469053859, validation accuracy: 0.9825396825396825\n",
      "Epoch 35, train accuracy: 0.9913161480249298, validation accuracy: 0.98140589569161\n",
      "Epoch 36, train accuracy: 0.9919153173956105, validation accuracy: 0.9795918364914096\n",
      "Epoch 37, train accuracy: 0.99221900598075, validation accuracy: 0.9795918367346939\n",
      "Epoch 38, train accuracy: 0.992309291776332, validation accuracy: 0.9800453517442388\n",
      "Epoch 39, train accuracy: 0.9925664694970807, validation accuracy: 0.982766439909297\n",
      "Epoch 40, train accuracy: 0.9932586605965429, validation accuracy: 0.9809523807090967\n",
      "Epoch 41, train accuracy: 0.9930808249411874, validation accuracy: 0.9823129251700681\n",
      "Epoch 42, train accuracy: 0.9934501759231139, validation accuracy: 0.980498866213152\n",
      "Epoch 43, train accuracy: 0.9937866957066469, validation accuracy: 0.9807256235827665\n",
      "Epoch 44, train accuracy: 0.993866037769431, validation accuracy: 0.9809523809523809\n",
      "Epoch 45, train accuracy: 0.9941587826191636, validation accuracy: 0.9780045351473923\n",
      "Epoch 46, train accuracy: 0.9942408606151473, validation accuracy: 0.9832199546485261\n",
      "Epoch 47, train accuracy: 0.9942764277467402, validation accuracy: 0.9802721091138533\n",
      "Epoch 48, train accuracy: 0.9945910600646775, validation accuracy: 0.9820861678004535\n",
      "Epoch 49, train accuracy: 0.99472512079406, validation accuracy: 0.9820861678004535\n",
      "Epoch 50, train accuracy: 0.9949467313806066, validation accuracy: 0.9802721091138533\n",
      "Epoch 51, train accuracy: 0.9948318221888387, validation accuracy: 0.9784580498866213\n",
      "Epoch 52, train accuracy: 0.9951245670411804, validation accuracy: 0.9811791383219954\n",
      "Epoch 53, train accuracy: 0.9952723074313418, validation accuracy: 0.9811791383219954\n",
      "Epoch 54, train accuracy: 0.9952039091013554, validation accuracy: 0.9816326530612245\n",
      "Epoch 55, train accuracy: 0.9951738138387706, validation accuracy: 0.9832199546485261\n",
      "Epoch 56, train accuracy: 0.9954200478241123, validation accuracy: 0.9848072562358277\n",
      "Epoch 57, train accuracy: 0.9957155286096535, validation accuracy: 0.980498866213152\n",
      "Epoch 58, train accuracy: 0.9956854333444595, validation accuracy: 0.983219954918842\n",
      "Epoch 59, train accuracy: 0.9957237364092518, validation accuracy: 0.980498866213152\n",
      "Epoch 60, train accuracy: 0.9959727063304022, validation accuracy: 0.9820861678004535\n",
      "Epoch 61, train accuracy: 0.9959344032656099, validation accuracy: 0.980498866213152\n",
      "Epoch 62, train accuracy: 0.9960711999281918, validation accuracy: 0.9823129251700681\n",
      "Epoch 63, train accuracy: 0.9962244121847521, validation accuracy: 0.9832199546485261\n",
      "Epoch 64, train accuracy: 0.9961067670571755, validation accuracy: 0.9829931972789115\n",
      "Epoch 65, train accuracy: 0.9960821436583804, validation accuracy: 0.9820861680707693\n",
      "Epoch 66, train accuracy: 0.9962079965855554, validation accuracy: 0.9820861678004535\n",
      "Epoch 67, train accuracy: 0.9962681871159433, validation accuracy: 0.9818594107011549\n",
      "Epoch 68, train accuracy: 0.9964405509101182, validation accuracy: 0.9811791383219954\n",
      "Epoch 69, train accuracy: 0.9965198929702932, validation accuracy: 0.9811791385923113\n",
      "Epoch 70, train accuracy: 0.9965472523022878, validation accuracy: 0.9814058959619258\n",
      "Epoch 71, train accuracy: 0.9966703692988724, validation accuracy: 0.9820861680707693\n",
      "Epoch 72, train accuracy: 0.9966977286282578, validation accuracy: 0.9798185941043084\n",
      "Epoch 73, train accuracy: 0.9965992350330775, validation accuracy: 0.9798185941043084\n",
      "Epoch 74, train accuracy: 0.9967551832280556, validation accuracy: 0.9798185941043084\n",
      "Epoch 75, train accuracy: 0.9967715988272523, validation accuracy: 0.98140589569161\n",
      "Epoch 76, train accuracy: 0.9968208456222333, validation accuracy: 0.9820861678004535\n",
      "Epoch 77, train accuracy: 0.9967880144238398, validation accuracy: 0.98140589569161\n",
      "Epoch 78, train accuracy: 0.9969001876850175, validation accuracy: 0.9802721091138533\n",
      "Epoch 79, train accuracy: 0.9969549063490066, validation accuracy: 0.9811791383219954\n",
      "Epoch 80, train accuracy: 0.9969166032842142, validation accuracy: 0.9798185941043084\n",
      "Epoch 81, train accuracy: 0.9970862311425804, validation accuracy: 0.9843537414965986\n",
      "Epoch 82, train accuracy: 0.9969986812801979, validation accuracy: 0.9811791383219954\n",
      "Epoch 83, train accuracy: 0.9971546294725668, validation accuracy: 0.9823129251700681\n",
      "Epoch 84, train accuracy: 0.9970616077437854, validation accuracy: 0.9836734693877551\n",
      "Epoch 85, train accuracy: 0.9974035993963264, validation accuracy: 0.9795918370050097\n",
      "Epoch 86, train accuracy: 0.9972312356021515, validation accuracy: 0.9816326530612245\n",
      "Epoch 87, train accuracy: 0.9972750105333428, validation accuracy: 0.9832199546485261\n",
      "Epoch 88, train accuracy: 0.9971327420069711, validation accuracy: 0.9816326530612245\n",
      "Epoch 89, train accuracy: 0.9973461447965286, validation accuracy: 0.9825396825396825\n",
      "Epoch 90, train accuracy: 0.9971327420069711, validation accuracy: 0.98140589569161\n",
      "Epoch 91, train accuracy: 0.9973981275273183, validation accuracy: 0.98140589569161\n",
      "Epoch 92, train accuracy: 0.9974282227925123, validation accuracy: 0.9800453514739229\n",
      "Epoch 93, train accuracy: 0.9973352010637309, validation accuracy: 0.9811791385923113\n",
      "Epoch 94, train accuracy: 0.9974063353269167, validation accuracy: 0.9825396825396825\n",
      "Epoch 95, train accuracy: 0.9973953915941188, validation accuracy: 0.9834467120181406\n",
      "Epoch 96, train accuracy: 0.9975513397864878, validation accuracy: 0.981859410430839\n"
     ]
    },
    {
     "name": "stdout",
     "output_type": "stream",
     "text": [
      "Epoch 97, train accuracy: 0.9975923787844796, validation accuracy: 0.9802721088435374\n",
      "Epoch 98, train accuracy: 0.9974856773897008, validation accuracy: 0.981859410430839\n",
      "Epoch 99, train accuracy: 0.9975568116528867, validation accuracy: 0.9848072562358277\n",
      "Epoch 100, train accuracy: 0.9975239804544932, validation accuracy: 0.9820861678004535\n",
      "Model saved\n"
     ]
    }
   ],
   "source": [
    "#Train the neural network\n",
    "saver = tf.train.Saver()\n",
    "with tf.Session() as sess:\n",
    "    init = tf.global_variables_initializer()\n",
    "    sess.run(init)\n",
    "    for epoch in range(epochs):\n",
    "        train_acc = 0\n",
    "        train_gray_features, train_labels = shuffle(train_gray_features, train_labels)\n",
    "        for batch_features, batch_labels in get_batch(train_gray_features, train_labels, batch_size):\n",
    "            _, acc = sess.run([optimizer, accuracy], feed_dict={x: batch_features, y:batch_labels, keep_prob:0.5})\n",
    "            train_acc += acc * batch_features.shape[0]\n",
    "        train_acc = train_acc / train_gray_features.shape[0]\n",
    "        valid_acc, co_pred = evaluate(valid_gray_features, valid_labels)\n",
    "        print(\"Epoch {}, train accuracy: {}, validation accuracy: {}\".format(epoch+1, train_acc, valid_acc))\n",
    "    saver.save(sess, \"model_1\")\n",
    "    print(\"Model saved\")\n",
    "valid_pred = co_pred"
   ]
  },
  {
   "cell_type": "markdown",
   "metadata": {},
   "source": [
    "---\n",
    "\n",
    "## Step 3: Test a Model on New Images\n",
    "\n",
    "To give yourself more insight into how your model is working, download at least five pictures of German traffic signs from the web and use your model to predict the traffic sign type.\n",
    "\n",
    "You may find `signnames.csv` useful as it contains mappings from the class id (integer) to the actual sign name."
   ]
  },
  {
   "cell_type": "markdown",
   "metadata": {},
   "source": [
    "### Test on the test data set"
   ]
  },
  {
   "cell_type": "code",
   "execution_count": 44,
   "metadata": {},
   "outputs": [
    {
     "name": "stdout",
     "output_type": "stream",
     "text": [
      "INFO:tensorflow:Restoring parameters from ./model_1\n",
      "Test accuracy: 0.9802058589902078\n"
     ]
    }
   ],
   "source": [
    "with tf.Session() as sess:\n",
    "    tf.train.import_meta_graph(\"model_1.meta\")\n",
    "    saver.restore(sess, \"./model_1\")\n",
    "    test_acc, _ = evaluate(test_gray_features, test_labels)\n",
    "    print(\"Test accuracy: {}\".format(test_acc))"
   ]
  },
  {
   "cell_type": "markdown",
   "metadata": {},
   "source": [
    "### Load and Output the Images"
   ]
  },
  {
   "cell_type": "markdown",
   "metadata": {},
   "source": [
    "New images are listed below. I think it would not be difficult to classify the these images with our model."
   ]
  },
  {
   "cell_type": "code",
   "execution_count": 49,
   "metadata": {},
   "outputs": [
    {
     "data": {
      "image/png": "[encoded data removed]",
      "text/plain": [
       "<matplotlib.figure.Figure at 0x7f06f5365240>"
      ]
     },
     "metadata": {},
     "output_type": "display_data"
    },
    {
     "data": {
      "image/png": "[encoded data removed]",
      "text/plain": [
       "<matplotlib.figure.Figure at 0x7f0850ba3e48>"
      ]
     },
     "metadata": {},
     "output_type": "display_data"
    },
    {
     "data": {
      "image/png": "[encoded data removed]",
      "text/plain": [
       "<matplotlib.figure.Figure at 0x7f0850d52eb8>"
      ]
     },
     "metadata": {},
     "output_type": "display_data"
    },
    {
     "data": {
      "image/png": "[encoded data removed]",
      "text/plain": [
       "<matplotlib.figure.Figure at 0x7f0850afcf28>"
      ]
     },
     "metadata": {},
     "output_type": "display_data"
    },
    {
     "data": {
      "image/png": "[encoded data removed]",
      "text/plain": [
       "<matplotlib.figure.Figure at 0x7f0850a6e978>"
      ]
     },
     "metadata": {},
     "output_type": "display_data"
    }
   ],
   "source": [
    "### Load the images and plot them here.\n",
    "### Feel free to use as many code cells as needed.\n",
    "import matplotlib.image as mpimg\n",
    "new_images = []\n",
    "for j in range(5):\n",
    "    file_path = \"./additional_images/figure_\" + str(j) + \".jpg\"\n",
    "    image = mpimg.imread(file_path)\n",
    "    new_images.append(image)\n",
    "    fig = plt.figure()\n",
    "    plt.axis(\"off\")\n",
    "    plt.imshow(image)\n",
    "    plt.show()"
   ]
  },
  {
   "cell_type": "code",
   "execution_count": 72,
   "metadata": {
    "collapsed": true
   },
   "outputs": [],
   "source": [
    "#new_image_labels is the correct labels for each image\n",
    "new_image_labels = np.array([16, 1, 38, 33, 11], dtype=np.float32)\n",
    "new_images = np.array(new_images)"
   ]
  },
  {
   "cell_type": "code",
   "execution_count": 58,
   "metadata": {
    "collapsed": true
   },
   "outputs": [],
   "source": [
    "#color2gray and normalize\n",
    "new_gray_images = color2gray(new_images)[:, :, :, None]\n",
    "new_gray_features = normalize(new_gray_images)"
   ]
  },
  {
   "cell_type": "code",
   "execution_count": 64,
   "metadata": {},
   "outputs": [
    {
     "data": {
      "text/plain": [
       "(5, 32, 32, 1)"
      ]
     },
     "execution_count": 64,
     "metadata": {},
     "output_type": "execute_result"
    }
   ],
   "source": [
    "new_gray_features.shape"
   ]
  },
  {
   "cell_type": "markdown",
   "metadata": {},
   "source": [
    "### Predict the Sign Type  for Each Image"
   ]
  },
  {
   "cell_type": "code",
   "execution_count": 70,
   "metadata": {},
   "outputs": [
    {
     "name": "stdout",
     "output_type": "stream",
     "text": [
      "INFO:tensorflow:Restoring parameters from ./model_1\n",
      "[16  1 38 33 11]\n"
     ]
    }
   ],
   "source": [
    "### Run the predictions here and use the model to output the prediction for each image.\n",
    "### Make sure to pre-process the images with the same pre-processing pipeline used earlier.\n",
    "### Feel free to use as many code cells as needed.\n",
    "pred = tf.argmax(logits, axis=1)\n",
    "pred_res = []\n",
    "with tf.Session() as sess:\n",
    "    tf.train.import_meta_graph(\"model_1.meta\")\n",
    "    saver.restore(sess, \"./model_1\")\n",
    "    pred_index = sess.run(pred, feed_dict={x: new_gray_features, y:new_image_labels, keep_prob:1.0})"
   ]
  },
  {
   "cell_type": "code",
   "execution_count": 75,
   "metadata": {},
   "outputs": [
    {
     "data": {
      "text/plain": [
       "array([ True,  True,  True,  True,  True], dtype=bool)"
      ]
     },
     "execution_count": 75,
     "metadata": {},
     "output_type": "execute_result"
    }
   ],
   "source": [
    "#To see whether the predictions are the same as the true labels\n",
    "pred_index == new_image_labels"
   ]
  },
  {
   "cell_type": "markdown",
   "metadata": {},
   "source": [
    "So we can see that our model correctly predict the labels for all 5 images."
   ]
  },
  {
   "cell_type": "markdown",
   "metadata": {},
   "source": [
    "### Analyze Performance"
   ]
  },
  {
   "cell_type": "code",
   "execution_count": 76,
   "metadata": {},
   "outputs": [
    {
     "name": "stdout",
     "output_type": "stream",
     "text": [
      "INFO:tensorflow:Restoring parameters from ./model_1\n"
     ]
    }
   ],
   "source": [
    "### Calculate the accuracy for these 5 new images. \n",
    "### For example, if the model predicted 1 out of 5 signs correctly, it's 20% accurate on these new images.\n",
    "with tf.Session() as sess:\n",
    "    tf.train.import_meta_graph(\"model_1.meta\")\n",
    "    saver.restore(sess, \"./model_1\")\n",
    "    new_acc = sess.run(accuracy, feed_dict={x: new_gray_features, y:new_image_labels, keep_prob:1.0})"
   ]
  },
  {
   "cell_type": "code",
   "execution_count": 78,
   "metadata": {},
   "outputs": [
    {
     "data": {
      "text/plain": [
       "1.0"
      ]
     },
     "execution_count": 78,
     "metadata": {},
     "output_type": "execute_result"
    }
   ],
   "source": [
    "#This is the accuracy for these new images\n",
    "new_acc"
   ]
  },
  {
   "cell_type": "markdown",
   "metadata": {},
   "source": [
    "We can see that the performance on these 5 images is better than on the test set."
   ]
  },
  {
   "cell_type": "markdown",
   "metadata": {},
   "source": [
    "### Output Top 5 Softmax Probabilities For Each Image Found on the Web"
   ]
  },
  {
   "cell_type": "markdown",
   "metadata": {},
   "source": [
    "For each of the new images, print out the model's softmax probabilities to show the **certainty** of the model's predictions (limit the output to the top 5 probabilities for each image). [`tf.nn.top_k`](https://www.tensorflow.org/versions/r0.12/api_docs/python/nn.html#top_k) could prove helpful here. \n",
    "\n",
    "The example below demonstrates how tf.nn.top_k can be used to find the top k predictions for each image.\n",
    "\n",
    "`tf.nn.top_k` will return the values and indices (class ids) of the top k predictions. So if k=3, for each sign, it'll return the 3 largest probabilities (out of a possible 43) and the correspoding class ids.\n",
    "\n",
    "Take this numpy array as an example. The values in the array represent predictions. The array contains softmax probabilities for five candidate images with six possible classes. `tk.nn.top_k` is used to choose the three classes with the highest probability:\n",
    "\n",
    "```\n",
    "# (5, 6) array\n",
    "a = np.array([[ 0.24879643,  0.07032244,  0.12641572,  0.34763842,  0.07893497,\n",
    "         0.12789202],\n",
    "       [ 0.28086119,  0.27569815,  0.08594638,  0.0178669 ,  0.18063401,\n",
    "         0.15899337],\n",
    "       [ 0.26076848,  0.23664738,  0.08020603,  0.07001922,  0.1134371 ,\n",
    "         0.23892179],\n",
    "       [ 0.11943333,  0.29198961,  0.02605103,  0.26234032,  0.1351348 ,\n",
    "         0.16505091],\n",
    "       [ 0.09561176,  0.34396535,  0.0643941 ,  0.16240774,  0.24206137,\n",
    "         0.09155967]])\n",
    "```\n",
    "\n",
    "Running it through `sess.run(tf.nn.top_k(tf.constant(a), k=3))` produces:\n",
    "\n",
    "```\n",
    "TopKV2(values=array([[ 0.34763842,  0.24879643,  0.12789202],\n",
    "       [ 0.28086119,  0.27569815,  0.18063401],\n",
    "       [ 0.26076848,  0.23892179,  0.23664738],\n",
    "       [ 0.29198961,  0.26234032,  0.16505091],\n",
    "       [ 0.34396535,  0.24206137,  0.16240774]]), indices=array([[3, 0, 5],\n",
    "       [0, 1, 4],\n",
    "       [0, 5, 1],\n",
    "       [1, 3, 5],\n",
    "       [1, 4, 3]], dtype=int32))\n",
    "```\n",
    "\n",
    "Looking just at the first row we get `[ 0.34763842,  0.24879643,  0.12789202]`, you can confirm these are the 3 largest probabilities in `a`. You'll also notice `[3, 0, 5]` are the corresponding indices."
   ]
  },
  {
   "cell_type": "code",
   "execution_count": 80,
   "metadata": {},
   "outputs": [
    {
     "name": "stdout",
     "output_type": "stream",
     "text": [
      "INFO:tensorflow:Restoring parameters from ./model_1\n"
     ]
    }
   ],
   "source": [
    "### Print out the top five softmax probabilities for the predictions on the German traffic sign images found on the web. \n",
    "### Feel free to use as many code cells as needed.\n",
    "soft_max_value = tf.nn.softmax(logits)\n",
    "with tf.Session() as sess:\n",
    "    tf.train.import_meta_graph(\"model_1.meta\")\n",
    "    saver.restore(sess, \"./model_1\")\n",
    "    soft_max_value = sess.run(soft_max_value, feed_dict={x: new_gray_features, y:new_image_labels, keep_prob:1.0})\n",
    "    rank_softmax = sess.run(tf.nn.top_k(soft_max_value, k=3))"
   ]
  },
  {
   "cell_type": "code",
   "execution_count": 81,
   "metadata": {},
   "outputs": [
    {
     "data": {
      "text/plain": [
       "TopKV2(values=array([[  1.00000000e+00,   3.84203845e-14,   1.38301905e-14],\n",
       "       [  1.00000000e+00,   1.95372711e-11,   1.29389327e-12],\n",
       "       [  9.94133174e-01,   2.52591586e-03,   1.89370720e-03],\n",
       "       [  9.95798886e-01,   1.05653389e-03,   1.02396228e-03],\n",
       "       [  9.99999881e-01,   7.48756932e-08,   1.46629615e-08]], dtype=float32), indices=array([[16,  9, 10],\n",
       "       [ 1,  0,  2],\n",
       "       [38,  5, 40],\n",
       "       [33, 41, 36],\n",
       "       [11, 23, 30]], dtype=int32))"
      ]
     },
     "execution_count": 81,
     "metadata": {},
     "output_type": "execute_result"
    }
   ],
   "source": [
    "rank_softmax"
   ]
  },
  {
   "cell_type": "code",
   "execution_count": 128,
   "metadata": {},
   "outputs": [
    {
     "data": {
      "image/png": "[encoded data removed]",
      "text/plain": [
       "<matplotlib.figure.Figure at 0x7f0850a8a7b8>"
      ]
     },
     "metadata": {},
     "output_type": "display_data"
    }
   ],
   "source": [
    "fig1, ((ax1, ax2), (ax3, ax4), (ax5, ax6)) = plt.subplots(3, 2)\n",
    "fig1.subplots_adjust(left=0.05, right=1, top=2, bottom=0.5, hspace=2)\n",
    "ax1.set_title(\"Sign Id: 16\")\n",
    "ax1.set_xlabel(\"sign id\")\n",
    "ax1.set_ylabel(\"probability\")\n",
    "bar_1 = ax1.bar(rank_softmax.indices[0], rank_softmax.values[0], width=0.5)\n",
    "ax2.set_title(\"Sign Id: 1\")\n",
    "ax2.set_xlabel(\"sign id\")\n",
    "bar_2 = ax2.bar(rank_softmax.indices[1], rank_softmax.values[1], width=0.5)\n",
    "ax3.set_title(\"Sign Id: 38\")\n",
    "ax3.set_xlabel(\"sign id\")\n",
    "ax3.set_ylabel(\"probability\")\n",
    "bar_3 = ax3.bar(rank_softmax.indices[2], rank_softmax.values[2], width=0.5)\n",
    "ax4.set_title(\"Sign Id: 33\")\n",
    "ax4.set_xlabel(\"sign id\")\n",
    "bar_4 = ax4.bar(rank_softmax.indices[3], rank_softmax.values[3], width=0.5)\n",
    "ax5.set_title(\"Sign Id: 11\")\n",
    "ax5.set_xlabel(\"sign id\")\n",
    "ax5.set_ylabel(\"probability\")\n",
    "bar_5 = ax5.bar(rank_softmax.indices[4], rank_softmax.values[4], width=0.5)\n",
    "plt.show()"
   ]
  },
  {
   "cell_type": "markdown",
   "metadata": {},
   "source": [
    "### Project Writeup\n",
    "\n",
    "Once you have completed the code implementation, document your results in a project writeup using this [template](https://github.com/udacity/CarND-Traffic-Sign-Classifier-Project/blob/master/writeup_template.md) as a guide. The writeup can be in a markdown or pdf file. "
   ]
  },
  {
   "cell_type": "markdown",
   "metadata": {},
   "source": [
    "> **Note**: Once you have completed all of the code implementations and successfully answered each question above, you may finalize your work by exporting the iPython Notebook as an HTML document. You can do this by using the menu above and navigating to  \\n\",\n",
    "    \"**File -> Download as -> HTML (.html)**. Include the finished document along with this notebook as your submission."
   ]
  },
  {
   "cell_type": "markdown",
   "metadata": {},
   "source": [
    "---\n",
    "\n",
    "## Step 4 (Optional): Visualize the Neural Network's State with Test Images\n",
    "\n",
    " This Section is not required to complete but acts as an additional excersise for understaning the output of a neural network's weights. While neural networks can be a great learning device they are often referred to as a black box. We can understand what the weights of a neural network look like better by plotting their feature maps. After successfully training your neural network you can see what it's feature maps look like by plotting the output of the network's weight layers in response to a test stimuli image. From these plotted feature maps, it's possible to see what characteristics of an image the network finds interesting. For a sign, maybe the inner network feature maps react with high activation to the sign's boundary outline or to the contrast in the sign's painted symbol.\n",
    "\n",
    " Provided for you below is the function code that allows you to get the visualization output of any tensorflow weight layer you want. The inputs to the function should be a stimuli image, one used during training or a new one you provided, and then the tensorflow variable name that represents the layer's state during the training process, for instance if you wanted to see what the [LeNet lab's](https://classroom.udacity.com/nanodegrees/nd013/parts/fbf77062-5703-404e-b60c-95b78b2f3f9e/modules/6df7ae49-c61c-4bb2-a23e-6527e69209ec/lessons/601ae704-1035-4287-8b11-e2c2716217ad/concepts/d4aca031-508f-4e0b-b493-e7b706120f81) feature maps looked like for it's second convolutional layer you could enter conv2 as the tf_activation variable.\n",
    "\n",
    "For an example of what feature map outputs look like, check out NVIDIA's results in their paper [End-to-End Deep Learning for Self-Driving Cars](https://devblogs.nvidia.com/parallelforall/deep-learning-self-driving-cars/) in the section Visualization of internal CNN State. NVIDIA was able to show that their network's inner weights had high activations to road boundary lines by comparing feature maps from an image with a clear path to one without. Try experimenting with a similar test to show that your trained network's weights are looking for interesting features, whether it's looking at differences in feature maps from images with or without a sign, or even what feature maps look like in a trained network vs a completely untrained one on the same sign image.\n",
    "\n",
    "<figure>\n",
    " <img src=\"visualize_cnn.png\" width=\"380\" alt=\"Combined Image\" />\n",
    " <figcaption>\n",
    " <p></p> \n",
    " <p style=\"text-align: center;\"> Your output should look something like this (above)</p> \n",
    " </figcaption>\n",
    "</figure>\n",
    " <p></p> \n"
   ]
  },
  {
   "cell_type": "code",
   "execution_count": 129,
   "metadata": {
    "collapsed": true
   },
   "outputs": [],
   "source": [
    "### Visualize your network's feature maps here.\n",
    "### Feel free to use as many code cells as needed.\n",
    "\n",
    "# image_input: the test image being fed into the network to produce the feature maps\n",
    "# tf_activation: should be a tf variable name used during your training procedure that represents the calculated state of a specific weight layer\n",
    "# activation_min/max: can be used to view the activation contrast in more detail, by default matplot sets min and max to the actual min and max values of the output\n",
    "# plt_num: used to plot out multiple different weight feature map sets on the same block, just extend the plt number for each new feature map entry\n",
    "\n",
    "def outputFeatureMap(image_input, tf_activation, activation_min=-1, activation_max=-1 ,plt_num=1):\n",
    "    # Here make sure to preprocess your image_input in a way your network expects\n",
    "    # with size, normalization, ect if needed\n",
    "    # image_input =\n",
    "    # Note: x should be the same name as your network's tensorflow data placeholder variable\n",
    "    # If you get an error tf_activation is not defined it may be having trouble accessing the variable from inside a function\n",
    "    activation = tf_activation.eval(session=sess,feed_dict={x : image_input})\n",
    "    featuremaps = activation.shape[3]\n",
    "    plt.figure(plt_num, figsize=(15,15))\n",
    "    for featuremap in range(featuremaps):\n",
    "        plt.subplot(6,8, featuremap+1) # sets the number of feature maps to show on each row and column\n",
    "        plt.title('FeatureMap ' + str(featuremap)) # displays the feature map number\n",
    "        if activation_min != -1 & activation_max != -1:\n",
    "            plt.imshow(activation[0,:,:, featuremap], interpolation=\"nearest\", vmin =activation_min, vmax=activation_max, cmap=\"gray\")\n",
    "        elif activation_max != -1:\n",
    "            plt.imshow(activation[0,:,:, featuremap], interpolation=\"nearest\", vmax=activation_max, cmap=\"gray\")\n",
    "        elif activation_min !=-1:\n",
    "            plt.imshow(activation[0,:,:, featuremap], interpolation=\"nearest\", vmin=activation_min, cmap=\"gray\")\n",
    "        else:\n",
    "            plt.imshow(activation[0,:,:, featuremap], interpolation=\"nearest\", cmap=\"gray\")"
   ]
  },
  {
   "cell_type": "code",
   "execution_count": 130,
   "metadata": {},
   "outputs": [
    {
     "ename": "NameError",
     "evalue": "name 'conv_layer_1' is not defined",
     "output_type": "error",
     "traceback": [
      "\u001b[0;31m---------------------------------------------------------------------------\u001b[0m",
      "\u001b[0;31mNameError\u001b[0m                                 Traceback (most recent call last)",
      "\u001b[0;32m<ipython-input-130-630e72afb1ce>\u001b[0m in \u001b[0;36m<module>\u001b[0;34m()\u001b[0m\n\u001b[0;32m----> 1\u001b[0;31m \u001b[0moutputFeatureMap\u001b[0m\u001b[0;34m(\u001b[0m\u001b[0mnew_gray_features\u001b[0m\u001b[0;34m[\u001b[0m\u001b[0;36m0\u001b[0m\u001b[0;34m]\u001b[0m\u001b[0;34m,\u001b[0m \u001b[0mconv_layer_1\u001b[0m\u001b[0;34m)\u001b[0m\u001b[0;34m\u001b[0m\u001b[0m\n\u001b[0m",
      "\u001b[0;31mNameError\u001b[0m: name 'conv_layer_1' is not defined"
     ]
    }
   ],
   "source": [
    "outputFeatureMap(new_gray_features[0], conv_layer_1)"
   ]
  }
 ],
 "metadata": {
  "anaconda-cloud": {},
  "kernelspec": {
   "display_name": "Python 3",
   "language": "python",
   "name": "python3"
  },
  "language_info": {
   "codemirror_mode": {
    "name": "ipython",
    "version": 3
   },
   "file_extension": ".py",
   "mimetype": "text/x-python",
   "name": "python",
   "nbconvert_exporter": "python",
   "pygments_lexer": "ipython3",
   "version": "3.5.3"
  }
 },
 "nbformat": 4,
 "nbformat_minor": 1
}
